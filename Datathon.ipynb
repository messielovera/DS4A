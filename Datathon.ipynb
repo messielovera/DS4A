{
 "cells": [
  {
   "cell_type": "code",
   "execution_count": 43,
   "metadata": {
    "scrolled": true
   },
   "outputs": [],
   "source": [
    "import pandas as pd\n",
    "import numpy as np\n",
    "\n",
    "ruta='C:/Users/William Romero/Downloads/DS4A/Dataset/Dataset/'\n",
    "\n",
    "#Lectura del archivo Geographic\n",
    "geometry = pd.read_csv(ruta+'geographic.csv')\n",
    "geometry.head()\n",
    "#Creación de Data Frame que va a almacenar el código del barrio con una de sus latitudes y longitudes relacionadas a un punto\n",
    "\n",
    "df = pd.DataFrame({'Code':[],'Lat':[],'Lon':[]})\n",
    "fila = 0\n",
    "for barrio in geometry:\n",
    "#barrio=\"BK88\"\n",
    "\n",
    "  while (fila < len(geometry) and not (np.isnan(geometry[barrio][fila]))):\n",
    "    longitud = geometry[barrio][fila]\n",
    "    latitud = geometry[barrio][fila+1]\n",
    "    #if not (np.isnan(latitud) | np.isnan(longitud)): \n",
    "        #Si existe al menos un nan significa que no es un punto\n",
    "    df2 = pd.DataFrame({'Code':[barrio],'Lat':[latitud],'Lon':[longitud]})\n",
    "    df = df.append(df2, ignore_index=True)\n",
    "    fila += 2"
   ]
  },
  {
   "cell_type": "code",
   "execution_count": 44,
   "metadata": {},
   "outputs": [
    {
     "ename": "ModuleNotFoundError",
     "evalue": "No module named 'descartes'",
     "output_type": "error",
     "traceback": [
      "\u001b[1;31m---------------------------------------------------------------------------\u001b[0m",
      "\u001b[1;31mModuleNotFoundError\u001b[0m                       Traceback (most recent call last)",
      "\u001b[1;32m<ipython-input-44-c3c1c94a4463>\u001b[0m in \u001b[0;36m<module>\u001b[1;34m\u001b[0m\n\u001b[0;32m      1\u001b[0m \u001b[1;32mimport\u001b[0m \u001b[0mpandas\u001b[0m \u001b[1;32mas\u001b[0m \u001b[0mpd\u001b[0m\u001b[1;33m\u001b[0m\u001b[1;33m\u001b[0m\u001b[0m\n\u001b[0;32m      2\u001b[0m \u001b[1;32mimport\u001b[0m \u001b[0mmatplotlib\u001b[0m\u001b[1;33m.\u001b[0m\u001b[0mpyplot\u001b[0m \u001b[1;32mas\u001b[0m \u001b[0mplt\u001b[0m\u001b[1;33m\u001b[0m\u001b[1;33m\u001b[0m\u001b[0m\n\u001b[1;32m----> 3\u001b[1;33m \u001b[1;32mimport\u001b[0m \u001b[0mdescartes\u001b[0m\u001b[1;33m\u001b[0m\u001b[1;33m\u001b[0m\u001b[0m\n\u001b[0m\u001b[0;32m      4\u001b[0m \u001b[1;32mimport\u001b[0m \u001b[0mgeopandas\u001b[0m \u001b[1;32mas\u001b[0m \u001b[0mgpd\u001b[0m\u001b[1;33m\u001b[0m\u001b[1;33m\u001b[0m\u001b[0m\n\u001b[0;32m      5\u001b[0m \u001b[1;32mfrom\u001b[0m \u001b[0mshapely\u001b[0m\u001b[1;33m.\u001b[0m\u001b[0mgeometry\u001b[0m \u001b[1;32mimport\u001b[0m \u001b[0mPoint\u001b[0m\u001b[1;33m,\u001b[0m \u001b[0mPolygon\u001b[0m\u001b[1;33m\u001b[0m\u001b[1;33m\u001b[0m\u001b[0m\n",
      "\u001b[1;31mModuleNotFoundError\u001b[0m: No module named 'descartes'"
     ]
    }
   ],
   "source": [
    "import pandas as pd\n",
    "import matplotlib.pyplot as plt\n",
    "import descartes\n",
    "import geopandas as gpd\n",
    "from shapely.geometry import Point, Polygon\n",
    "\n",
    "gdf = gpd.GeoDataFrame(df, geometry=gpd.points_from_xy(df.Lon, df.Lat))\n",
    "\n",
    "#world = gpd.read_file(gpd.datasets.get_path('naturalearth_lowres'))\n",
    "#world = gpd.read_file(gpd.datasets.get_path('nybb'))\n",
    "world = gpd.read_file(ruta+'NYC.shp')\n",
    "\n",
    "ax = world.plot(color='white', edgecolor='black')\n",
    "\n",
    "# We can now plot our ``GeoDataFrame``.\n",
    "#gdf.plot(ax=ax, color='red')\n",
    "\n",
    "plt.show()"
   ]
  },
  {
   "cell_type": "code",
   "execution_count": null,
   "metadata": {},
   "outputs": [
    {
     "name": "stderr",
     "output_type": "stream",
     "text": [
      "C:\\Users\\William Romero\\Anaconda3\\lib\\site-packages\\IPython\\core\\interactiveshell.py:3057: DtypeWarning: Columns (1) have mixed types. Specify dtype option on import or set low_memory=False.\n",
      "  interactivity=interactivity, compiler=compiler, result=result)\n"
     ]
    }
   ],
   "source": [
    "import pandas as pd\n",
    "import numpy as np\n",
    "\n",
    "#Cargue archivos UBER\n",
    "uber_2014 = pd.read_csv(ruta+'uber_trips_2014.csv.gz', compression='gzip', header=0, sep=',', quotechar='\"', error_bad_lines=False, dtype={'user_id': str})\n",
    "uber_2015 = pd.read_csv(ruta+'uber_trips_2015.csv.gz', compression='gzip', header=0, sep=',', quotechar='\"', error_bad_lines=False, dtype={'user_id': str})\n",
    "#Cargue archivo Taxi\n",
    "taxi = pd.read_csv(ruta+'yellow_trips.csv.gz', compression='gzip', header=0, sep=',', quotechar='\"', error_bad_lines=False, dtype={'user_id': str})\n",
    "#Cargue archivo Green Taxi\n",
    "#green = pd.read_csv(ruta+'green_trips.csv.gz', compression='gzip', header=0, sep=',', quotechar='\"', error_bad_lines=False, dtype={'user_id': str})\n",
    "#Cargue archivo MTA\n",
    "#train = pd.read_csv(ruta+'mta_trips.csv.gz', compression='gzip', header=0, sep=',', quotechar='\"', error_bad_lines=False, dtype={'user_id': str})\n",
    "\n",
    "uber = uber_2014.append(uber_2015, sort=False, ignore_index=True)\n",
    "uber_copy = uber.copy()\n",
    "uber_copy['pickup_datetime'] = pd.to_datetime(uber_copy['pickup_datetime'])\n",
    "uber_copy['date'] = uber_copy['pickup_datetime'].dt.date\n",
    "uber_copy['day'] = uber_copy['pickup_datetime'].dt.day\n",
    "uber_copy['month'] = uber_copy['pickup_datetime'].dt.month\n",
    "uber_copy['year'] = uber_copy['pickup_datetime'].dt.year"
   ]
  },
  {
   "cell_type": "code",
   "execution_count": 48,
   "metadata": {
    "scrolled": true
   },
   "outputs": [],
   "source": [
    "uber_conteo = uber_copy.groupby(['year','month','day']).count()[['pickup_datetime']]\n",
    "uber_conteo.rename(columns={'pickup_datetime':'count'}, inplace=True)"
   ]
  },
  {
   "cell_type": "code",
   "execution_count": 53,
   "metadata": {},
   "outputs": [
    {
     "data": {
      "text/html": [
       "<div>\n",
       "<style scoped>\n",
       "    .dataframe tbody tr th:only-of-type {\n",
       "        vertical-align: middle;\n",
       "    }\n",
       "\n",
       "    .dataframe tbody tr th {\n",
       "        vertical-align: top;\n",
       "    }\n",
       "\n",
       "    .dataframe thead th {\n",
       "        text-align: right;\n",
       "    }\n",
       "</style>\n",
       "<table border=\"1\" class=\"dataframe\">\n",
       "  <thead>\n",
       "    <tr style=\"text-align: right;\">\n",
       "      <th></th>\n",
       "      <th>pickup_datetime</th>\n",
       "      <th>pickup_latitude</th>\n",
       "      <th>pickup_longitude</th>\n",
       "      <th>base</th>\n",
       "    </tr>\n",
       "  </thead>\n",
       "  <tbody>\n",
       "    <tr>\n",
       "      <th>0</th>\n",
       "      <td>4/1/14 0:11</td>\n",
       "      <td>40.7690</td>\n",
       "      <td>-73.9549</td>\n",
       "      <td>B02512</td>\n",
       "    </tr>\n",
       "    <tr>\n",
       "      <th>1</th>\n",
       "      <td>4/1/14 0:17</td>\n",
       "      <td>40.7267</td>\n",
       "      <td>-74.0345</td>\n",
       "      <td>B02512</td>\n",
       "    </tr>\n",
       "    <tr>\n",
       "      <th>2</th>\n",
       "      <td>4/1/14 0:21</td>\n",
       "      <td>40.7316</td>\n",
       "      <td>-73.9873</td>\n",
       "      <td>B02512</td>\n",
       "    </tr>\n",
       "    <tr>\n",
       "      <th>3</th>\n",
       "      <td>4/1/14 0:28</td>\n",
       "      <td>40.7588</td>\n",
       "      <td>-73.9776</td>\n",
       "      <td>B02512</td>\n",
       "    </tr>\n",
       "    <tr>\n",
       "      <th>4</th>\n",
       "      <td>4/1/14 0:33</td>\n",
       "      <td>40.7594</td>\n",
       "      <td>-73.9722</td>\n",
       "      <td>B02512</td>\n",
       "    </tr>\n",
       "  </tbody>\n",
       "</table>\n",
       "</div>"
      ],
      "text/plain": [
       "  pickup_datetime  pickup_latitude  pickup_longitude    base\n",
       "0     4/1/14 0:11          40.7690          -73.9549  B02512\n",
       "1     4/1/14 0:17          40.7267          -74.0345  B02512\n",
       "2     4/1/14 0:21          40.7316          -73.9873  B02512\n",
       "3     4/1/14 0:28          40.7588          -73.9776  B02512\n",
       "4     4/1/14 0:33          40.7594          -73.9722  B02512"
      ]
     },
     "execution_count": 53,
     "metadata": {},
     "output_type": "execute_result"
    }
   ],
   "source": []
  },
  {
   "cell_type": "code",
   "execution_count": null,
   "metadata": {},
   "outputs": [],
   "source": []
  }
 ],
 "metadata": {
  "kernelspec": {
   "display_name": "Python 3",
   "language": "python",
   "name": "python3"
  },
  "language_info": {
   "codemirror_mode": {
    "name": "ipython",
    "version": 3
   },
   "file_extension": ".py",
   "mimetype": "text/x-python",
   "name": "python",
   "nbconvert_exporter": "python",
   "pygments_lexer": "ipython3",
   "version": "3.7.3"
  }
 },
 "nbformat": 4,
 "nbformat_minor": 2
}
