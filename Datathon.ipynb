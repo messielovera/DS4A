{
 "cells": [
  {
   "cell_type": "code",
   "execution_count": 55,
   "metadata": {
    "scrolled": true
   },
   "outputs": [
    {
     "data": {
      "text/plain": [
       "[-73.9760507905698,\n",
       " -73.9771665542679,\n",
       " -73.97699992349709,\n",
       " -73.9768510772105,\n",
       " -73.9766974777461,\n",
       " -73.9765791908336,\n",
       " -73.97651605490691,\n",
       " -73.9764511382828,\n",
       " -73.9762359705636,\n",
       " -73.9772629343846,\n",
       " -73.97719809044129,\n",
       " -73.97711102688271,\n",
       " -73.9769452575888,\n",
       " -73.9768360858429,\n",
       " -73.97675353017891,\n",
       " -73.9765672728723,\n",
       " -73.9769521418502,\n",
       " -73.97705496237609,\n",
       " -73.9753952383902,\n",
       " -73.9768257690581,\n",
       " -73.9775244525444,\n",
       " -73.9778515271106,\n",
       " -73.9756309743991,\n",
       " -73.97537478816619,\n",
       " -73.97544419990241,\n",
       " -73.9754824027154,\n",
       " -73.97444471701199,\n",
       " -73.9733602257552,\n",
       " -73.9729047013909,\n",
       " -73.9739946269133,\n",
       " -73.9751732026353,\n",
       " -73.9749740792352,\n",
       " -73.9748943901032,\n",
       " -73.9747780122118,\n",
       " -73.9752097267571,\n",
       " -73.9774095979934,\n",
       " -73.97963965192659,\n",
       " -73.9800407379246,\n",
       " -73.98088056247751,\n",
       " -73.9818696174241,\n",
       " -73.98406935344259,\n",
       " -73.9862766836595,\n",
       " -73.98569501465259,\n",
       " -73.9878523925214,\n",
       " -73.99009499849159,\n",
       " -73.99255117502,\n",
       " -73.9939834108584,\n",
       " -73.99432641361959,\n",
       " -73.9948942452892,\n",
       " -73.9947362964268,\n",
       " -73.99465116935359,\n",
       " -73.995079588454,\n",
       " -73.9967899156773,\n",
       " -73.99687922391259,\n",
       " -73.9970177768712,\n",
       " -73.99724211081359,\n",
       " -73.9981175840122,\n",
       " -74.0003151362792,\n",
       " -74.0025159903588,\n",
       " -74.0022293761833,\n",
       " -74.0019315565538,\n",
       " -74.00306298285349,\n",
       " -74.00368741521909,\n",
       " -74.0041387226147,\n",
       " -74.0063401502436,\n",
       " -74.0070244688213,\n",
       " -74.0068082224122,\n",
       " -74.00662059344259,\n",
       " -74.00630759914341,\n",
       " -74.0055663474715,\n",
       " -74.0073578108183,\n",
       " -74.0067526712103,\n",
       " -74.0064192907805,\n",
       " -74.0061707125885,\n",
       " -74.0055875737634,\n",
       " -74.005004908848,\n",
       " -74.00442192722241,\n",
       " -74.004112484189,\n",
       " -74.00383937417479,\n",
       " -74.0032541744095,\n",
       " -74.0026735863878,\n",
       " -74.0023708776843,\n",
       " -74.0020921971601,\n",
       " -74.00150915520221,\n",
       " -74.0009268602378,\n",
       " -74.00066222424059,\n",
       " -74.0003426630167,\n",
       " -73.9997583506462,\n",
       " -73.999177089234,\n",
       " -73.99697501535401,\n",
       " -73.9955117783607,\n",
       " -73.99479683593209,\n",
       " -73.9943326816783,\n",
       " -73.9940783604289,\n",
       " -73.993363976848,\n",
       " -73.99264600051309,\n",
       " -73.99192956349201,\n",
       " -73.991214213337,\n",
       " -73.9904977801622,\n",
       " -73.9897803418762,\n",
       " -73.9890601628697,\n",
       " -73.98835130544379,\n",
       " -73.98750084435041,\n",
       " -73.9867322438464,\n",
       " -73.9858978827732,\n",
       " -73.985096633962,\n",
       " -73.98458863221559,\n",
       " -73.9843043687222,\n",
       " -73.9833177214577,\n",
       " -73.9829956292387,\n",
       " -73.9824459788592,\n",
       " -73.9820446541955,\n",
       " -73.9812338413175,\n",
       " -73.98042201428329,\n",
       " -73.98007572079099,\n",
       " -73.9800083658258,\n",
       " -73.9799112671232,\n",
       " -73.9798750387037,\n",
       " -73.9796784851557,\n",
       " -73.97955584713371,\n",
       " -73.9794773563618,\n",
       " -73.9793878825889,\n",
       " -73.9792873527091,\n",
       " -73.9791133226045,\n",
       " -73.9780230243262,\n",
       " -73.9768900459946,\n",
       " -73.97663799458091,\n",
       " -73.976552075801,\n",
       " -73.9764348560386,\n",
       " -73.9760507905698]"
      ]
     },
     "execution_count": 55,
     "metadata": {},
     "output_type": "execute_result"
    }
   ],
   "source": [
    "import pandas as pd\n",
    "import numpy as np\n",
    "\n",
    "ruta='C:/Users/William Romero/Downloads/DS4A/Dataset/Dataset/'\n",
    "\n",
    "#Lectura del archivo Geographic\n",
    "geometry = pd.read_csv(ruta+'geographic.csv')\n",
    "\n",
    "#Creación de Data Frame que va a almacenar el código del barrio con una de sus latitudes y longitudes relacionadas a un punto\n",
    "\n",
    "df = pd.DataFrame({'Code':[],'Lat':[],'Lon':[]})\n",
    "\n",
    "fila = 0\n",
    "#for barrio in geometry:\n",
    "barrio=\"BK88\"\n",
    "while (fila < len(geometry) and not (np.isnan(geometry[barrio][fila]))):\n",
    "    longitud = geometry[barrio][fila]\n",
    "    latitud = geometry[barrio][fila+1]\n",
    "    #if not (np.isnan(latitud) | np.isnan(longitud)): \n",
    "        #Si existe al menos un nan significa que no es un punto\n",
    "    df2 = pd.DataFrame({'Code':[barrio],'latitude':[latitud],'longitude':[longitud]})\n",
    "    df = df.append(df2, ignore_index=True)\n",
    "    fila += 2\n",
    "df.head()\n",
    "lista = []\n",
    "latitudes=df['latitude'].tolist()\n",
    "longitudes=df['longitude'].tolist()\n",
    "longitudes\n",
    "\n"
   ]
  },
  {
   "cell_type": "code",
   "execution_count": 56,
   "metadata": {},
   "outputs": [
    {
     "name": "stdout",
     "output_type": "stream",
     "text": [
      "0    POLYGON ((-73.97605 40.63128, -73.97717 40.630...\n",
      "Name: geometry, dtype: geometry\n"
     ]
    },
    {
     "data": {
      "text/html": [
       "<div style=\"width:100%;\"><div style=\"position:relative;width:100%;height:0;padding-bottom:60%;\"><iframe src=\"data:text/html;charset=utf-8;base64,PCFET0NUWVBFIGh0bWw+CjxoZWFkPiAgICAKICAgIDxtZXRhIGh0dHAtZXF1aXY9ImNvbnRlbnQtdHlwZSIgY29udGVudD0idGV4dC9odG1sOyBjaGFyc2V0PVVURi04IiAvPgogICAgCiAgICAgICAgPHNjcmlwdD4KICAgICAgICAgICAgTF9OT19UT1VDSCA9IGZhbHNlOwogICAgICAgICAgICBMX0RJU0FCTEVfM0QgPSBmYWxzZTsKICAgICAgICA8L3NjcmlwdD4KICAgIAogICAgPHNjcmlwdCBzcmM9Imh0dHBzOi8vY2RuLmpzZGVsaXZyLm5ldC9ucG0vbGVhZmxldEAxLjUuMS9kaXN0L2xlYWZsZXQuanMiPjwvc2NyaXB0PgogICAgPHNjcmlwdCBzcmM9Imh0dHBzOi8vY29kZS5qcXVlcnkuY29tL2pxdWVyeS0xLjEyLjQubWluLmpzIj48L3NjcmlwdD4KICAgIDxzY3JpcHQgc3JjPSJodHRwczovL21heGNkbi5ib290c3RyYXBjZG4uY29tL2Jvb3RzdHJhcC8zLjIuMC9qcy9ib290c3RyYXAubWluLmpzIj48L3NjcmlwdD4KICAgIDxzY3JpcHQgc3JjPSJodHRwczovL2NkbmpzLmNsb3VkZmxhcmUuY29tL2FqYXgvbGlicy9MZWFmbGV0LmF3ZXNvbWUtbWFya2Vycy8yLjAuMi9sZWFmbGV0LmF3ZXNvbWUtbWFya2Vycy5qcyI+PC9zY3JpcHQ+CiAgICA8bGluayByZWw9InN0eWxlc2hlZXQiIGhyZWY9Imh0dHBzOi8vY2RuLmpzZGVsaXZyLm5ldC9ucG0vbGVhZmxldEAxLjUuMS9kaXN0L2xlYWZsZXQuY3NzIi8+CiAgICA8bGluayByZWw9InN0eWxlc2hlZXQiIGhyZWY9Imh0dHBzOi8vbWF4Y2RuLmJvb3RzdHJhcGNkbi5jb20vYm9vdHN0cmFwLzMuMi4wL2Nzcy9ib290c3RyYXAubWluLmNzcyIvPgogICAgPGxpbmsgcmVsPSJzdHlsZXNoZWV0IiBocmVmPSJodHRwczovL21heGNkbi5ib290c3RyYXBjZG4uY29tL2Jvb3RzdHJhcC8zLjIuMC9jc3MvYm9vdHN0cmFwLXRoZW1lLm1pbi5jc3MiLz4KICAgIDxsaW5rIHJlbD0ic3R5bGVzaGVldCIgaHJlZj0iaHR0cHM6Ly9tYXhjZG4uYm9vdHN0cmFwY2RuLmNvbS9mb250LWF3ZXNvbWUvNC42LjMvY3NzL2ZvbnQtYXdlc29tZS5taW4uY3NzIi8+CiAgICA8bGluayByZWw9InN0eWxlc2hlZXQiIGhyZWY9Imh0dHBzOi8vY2RuanMuY2xvdWRmbGFyZS5jb20vYWpheC9saWJzL0xlYWZsZXQuYXdlc29tZS1tYXJrZXJzLzIuMC4yL2xlYWZsZXQuYXdlc29tZS1tYXJrZXJzLmNzcyIvPgogICAgPGxpbmsgcmVsPSJzdHlsZXNoZWV0IiBocmVmPSJodHRwczovL3Jhd2Nkbi5naXRoYWNrLmNvbS9weXRob24tdmlzdWFsaXphdGlvbi9mb2xpdW0vbWFzdGVyL2ZvbGl1bS90ZW1wbGF0ZXMvbGVhZmxldC5hd2Vzb21lLnJvdGF0ZS5jc3MiLz4KICAgIDxzdHlsZT5odG1sLCBib2R5IHt3aWR0aDogMTAwJTtoZWlnaHQ6IDEwMCU7bWFyZ2luOiAwO3BhZGRpbmc6IDA7fTwvc3R5bGU+CiAgICA8c3R5bGU+I21hcCB7cG9zaXRpb246YWJzb2x1dGU7dG9wOjA7Ym90dG9tOjA7cmlnaHQ6MDtsZWZ0OjA7fTwvc3R5bGU+CiAgICAKICAgICAgICAgICAgPG1ldGEgbmFtZT0idmlld3BvcnQiIGNvbnRlbnQ9IndpZHRoPWRldmljZS13aWR0aCwKICAgICAgICAgICAgICAgIGluaXRpYWwtc2NhbGU9MS4wLCBtYXhpbXVtLXNjYWxlPTEuMCwgdXNlci1zY2FsYWJsZT1ubyIgLz4KICAgICAgICAgICAgPHN0eWxlPgogICAgICAgICAgICAgICAgI21hcF9hOGY3ZmRhMDhlZWE0NmQyYTZmMjg5YjBkMjQzNzlkOCB7CiAgICAgICAgICAgICAgICAgICAgcG9zaXRpb246IHJlbGF0aXZlOwogICAgICAgICAgICAgICAgICAgIHdpZHRoOiAxMDAuMCU7CiAgICAgICAgICAgICAgICAgICAgaGVpZ2h0OiAxMDAuMCU7CiAgICAgICAgICAgICAgICAgICAgbGVmdDogMC4wJTsKICAgICAgICAgICAgICAgICAgICB0b3A6IDAuMCU7CiAgICAgICAgICAgICAgICB9CiAgICAgICAgICAgIDwvc3R5bGU+CiAgICAgICAgCjwvaGVhZD4KPGJvZHk+ICAgIAogICAgCiAgICAgICAgICAgIDxkaXYgY2xhc3M9ImZvbGl1bS1tYXAiIGlkPSJtYXBfYThmN2ZkYTA4ZWVhNDZkMmE2ZjI4OWIwZDI0Mzc5ZDgiID48L2Rpdj4KICAgICAgICAKPC9ib2R5Pgo8c2NyaXB0PiAgICAKICAgIAogICAgICAgICAgICB2YXIgbWFwX2E4ZjdmZGEwOGVlYTQ2ZDJhNmYyODliMGQyNDM3OWQ4ID0gTC5tYXAoCiAgICAgICAgICAgICAgICAibWFwX2E4ZjdmZGEwOGVlYTQ2ZDJhNmYyODliMGQyNDM3OWQ4IiwKICAgICAgICAgICAgICAgIHsKICAgICAgICAgICAgICAgICAgICBjZW50ZXI6IFs0MC42MzEyOCwgLTczLjk3NjA1XSwKICAgICAgICAgICAgICAgICAgICBjcnM6IEwuQ1JTLkVQU0czODU3LAogICAgICAgICAgICAgICAgICAgIHpvb206IDEyLAogICAgICAgICAgICAgICAgICAgIHpvb21Db250cm9sOiB0cnVlLAogICAgICAgICAgICAgICAgICAgIHByZWZlckNhbnZhczogZmFsc2UsCiAgICAgICAgICAgICAgICB9CiAgICAgICAgICAgICk7CgogICAgICAgICAgICAKCiAgICAgICAgCiAgICAKICAgICAgICAgICAgdmFyIHRpbGVfbGF5ZXJfMTkyMDc0MmMwNjUxNDAxY2IxN2NiMDJhYzk5ZTUwZTYgPSBMLnRpbGVMYXllcigKICAgICAgICAgICAgICAgICJodHRwczovL2NhcnRvZGItYmFzZW1hcHMte3N9Lmdsb2JhbC5zc2wuZmFzdGx5Lm5ldC9saWdodF9hbGwve3p9L3t4fS97eX0ucG5nIiwKICAgICAgICAgICAgICAgIHsiYXR0cmlidXRpb24iOiAiXHUwMDI2Y29weTsgXHUwMDNjYSBocmVmPVwiaHR0cDovL3d3dy5vcGVuc3RyZWV0bWFwLm9yZy9jb3B5cmlnaHRcIlx1MDAzZU9wZW5TdHJlZXRNYXBcdTAwM2MvYVx1MDAzZSBjb250cmlidXRvcnMgXHUwMDI2Y29weTsgXHUwMDNjYSBocmVmPVwiaHR0cDovL2NhcnRvZGIuY29tL2F0dHJpYnV0aW9uc1wiXHUwMDNlQ2FydG9EQlx1MDAzYy9hXHUwMDNlLCBDYXJ0b0RCIFx1MDAzY2EgaHJlZiA9XCJodHRwOi8vY2FydG9kYi5jb20vYXR0cmlidXRpb25zXCJcdTAwM2VhdHRyaWJ1dGlvbnNcdTAwM2MvYVx1MDAzZSIsICJkZXRlY3RSZXRpbmEiOiBmYWxzZSwgIm1heE5hdGl2ZVpvb20iOiAxOCwgIm1heFpvb20iOiAxOCwgIm1pblpvb20iOiAwLCAibm9XcmFwIjogZmFsc2UsICJvcGFjaXR5IjogMSwgInN1YmRvbWFpbnMiOiAiYWJjIiwgInRtcyI6IGZhbHNlfQogICAgICAgICAgICApLmFkZFRvKG1hcF9hOGY3ZmRhMDhlZWE0NmQyYTZmMjg5YjBkMjQzNzlkOCk7CiAgICAgICAgCiAgICAKICAgICAgICBmdW5jdGlvbiBnZW9fanNvbl81MzYzZmQxZDg5ZjI0MmQ5YjFiNzFkNTEzMmUwZjgzMl9vbkVhY2hGZWF0dXJlKGZlYXR1cmUsIGxheWVyKSB7CiAgICAgICAgICAgIGxheWVyLm9uKHsKICAgICAgICAgICAgICAgIGNsaWNrOiBmdW5jdGlvbihlKSB7CiAgICAgICAgICAgICAgICAgICAgbWFwX2E4ZjdmZGEwOGVlYTQ2ZDJhNmYyODliMGQyNDM3OWQ4LmZpdEJvdW5kcyhlLnRhcmdldC5nZXRCb3VuZHMoKSk7CiAgICAgICAgICAgICAgICB9CiAgICAgICAgICAgIH0pOwogICAgICAgIH07CiAgICAgICAgdmFyIGdlb19qc29uXzUzNjNmZDFkODlmMjQyZDliMWI3MWQ1MTMyZTBmODMyID0gTC5nZW9Kc29uKG51bGwsIHsKICAgICAgICAgICAgICAgIG9uRWFjaEZlYXR1cmU6IGdlb19qc29uXzUzNjNmZDFkODlmMjQyZDliMWI3MWQ1MTMyZTBmODMyX29uRWFjaEZlYXR1cmUsCiAgICAgICAgICAgIAogICAgICAgIH0pLmFkZFRvKG1hcF9hOGY3ZmRhMDhlZWE0NmQyYTZmMjg5YjBkMjQzNzlkOCk7CiAgICAgICAgICAgIGdlb19qc29uXzUzNjNmZDFkODlmMjQyZDliMWI3MWQ1MTMyZTBmODMyLmFkZERhdGEoeyJiYm94IjogWy03NC4wMDczNTc4MTA4MTgzLCA0MC42MTI2NDY3MTI3Njc4LCAtNzMuOTcyOTA0NzAxMzkwOSwgNDAuNjQ0NTcwNDg3NTIzMTA0XSwgImZlYXR1cmVzIjogW3siYmJveCI6IFstNzQuMDA3MzU3ODEwODE4MywgNDAuNjEyNjQ2NzEyNzY3OCwgLTczLjk3MjkwNDcwMTM5MDksIDQwLjY0NDU3MDQ4NzUyMzEwNF0sICJnZW9tZXRyeSI6IHsiY29vcmRpbmF0ZXMiOiBbW1stNzMuOTc2MDUwNzkwNTY5OCwgNDAuNjMxMjg0MTQ3MTA0Ml0sIFstNzMuOTc3MTY2NTU0MjY3OSwgNDAuNjMwNzU0ODk1NDQzOF0sIFstNzMuOTc2OTk5OTIzNDk3MDksIDQwLjYyOTg3OTczNzI3MzhdLCBbLTczLjk3Njg1MTA3NzIxMDUsIDQwLjYyOTA5NjgyMjQ3ODI5Nl0sIFstNzMuOTc2Njk3NDc3NzQ2MSwgNDAuNjI4MzYyODA1MDY5NzldLCBbLTczLjk3NjU3OTE5MDgzMzYsIDQwLjYyNzU4MTQyNzUzMDcxXSwgWy03My45NzY1MTYwNTQ5MDY5MSwgNDAuNjI3MzAyNzMxMTUzMV0sIFstNzMuOTc2NDUxMTM4MjgyOCwgNDAuNjI3MDE2NDk2MDc4M10sIFstNzMuOTc2MjM1OTcwNTYzNiwgNDAuNjI1OTg0NTkxMTQwNF0sIFstNzMuOTc3MjYyOTM0Mzg0NjEsIDQwLjYyNTg2MTAxMzE2MzVdLCBbLTczLjk3NzE5ODA5MDQ0MTI5LCA0MC42MjUxMTAyMTg3NjM3XSwgWy03My45NzcxMTEwMjY4ODI3MSwgNDAuNjI0OTU2NDk5ODY5MV0sIFstNzMuOTc2OTQ1MjU3NTg4OCwgNDAuNjI0MDYwOTkwMDIyMl0sIFstNzMuOTc2ODM2MDg1ODQyOSwgNDAuNjIzNDg5MjgxODQ0NzA1XSwgWy03My45NzY3NTM1MzAxNzg5MSwgNDAuNjIzMDIxNTUyMTM1NzA0XSwgWy03My45NzY1NjcyNzI4NzIzMiwgNDAuNjIyMDAzMTQyODEwMl0sIFstNzMuOTc2OTUyMTQxODUwMiwgNDAuNjIxNjM4MjQ2NzA1OV0sIFstNzMuOTc3MDU0OTYyMzc2MDksIDQwLjYyMTU0MDc2MTMxNjIwNF0sIFstNzMuOTc1Mzk1MjM4MzkwMiwgNDAuNjIwNzc4MjI2NjU0Ml0sIFstNzMuOTc2ODI1NzY5MDU4MSwgNDAuNjE4Njg0MDM5MTE0Nl0sIFstNzMuOTc3NTI0NDUyNTQ0NCwgNDAuNjE3Njg0Nzc5NTAyXSwgWy03My45Nzc4NTE1MjcxMTA2LCA0MC42MTcyOTU4NDU0NDE1XSwgWy03My45NzU2MzA5NzQzOTkxLCA0MC42MTU5NTM2MjkxMjc4XSwgWy03My45NzUzNzQ3ODgxNjYxOSwgNDAuNjE1NzYyOTYwODE0NzA2XSwgWy03My45NzU0NDQxOTk5MDI0MSwgNDAuNjE2MTIyMzI4ODU1NTA0XSwgWy03My45NzU0ODI0MDI3MTU0LCA0MC42MTYzMjAxNjM2ODIyMDRdLCBbLTczLjk3NDQ0NDcxNzAxMTk5LCA0MC42MTY0Mjk4ODIwNTc5XSwgWy03My45NzMzNjAyMjU3NTUyLCA0MC42MTY1NDk5NTM5NTM5XSwgWy03My45NzI5MDQ3MDEzOTA5LCA0MC42MTQxNjEyMDY1ODg1XSwgWy03My45NzM5OTQ2MjY5MTMzLCA0MC42MTQwMzgxMzIzODQyXSwgWy03My45NzUxNzMyMDI2MzUzLCA0MC42MTQ3MzI0MjQxMTc4OTZdLCBbLTczLjk3NDk3NDA3OTIzNTIsIDQwLjYxMzY3NjM0ODIwODJdLCBbLTczLjk3NDg5NDM5MDEwMzIsIDQwLjYxMzE5NDYwNjM1ODVdLCBbLTczLjk3NDc3ODAxMjIxMTgxLCA0MC42MTI2NDY3MTI3Njc4XSwgWy03My45NzUyMDk3MjY3NTcxLCA0MC42MTI4OTM0OTYwODk2MDVdLCBbLTczLjk3NzQwOTU5Nzk5MzQsIDQwLjYxNDIyNjM1MTA0OTVdLCBbLTczLjk3OTYzOTY1MTkyNjU5LCA0MC42MTU1NzI3ODU0NzM5XSwgWy03My45ODAwNDA3Mzc5MjQ2LCA0MC42MTU4MTUxNjc5NDddLCBbLTczLjk4MDg4MDU2MjQ3NzUxLCA0MC42MTYzMjI2NzMxMzhdLCBbLTczLjk4MTg2OTYxNzQyNDEsIDQwLjYxNjkyMDM2NTAzNjRdLCBbLTczLjk4NDA2OTM1MzQ0MjU5LCA0MC42MTgyNDg5Nzc5MTk0XSwgWy03My45ODYyNzY2ODM2NTk1LCA0MC42MTk1NzQ4NTUzODk3MV0sIFstNzMuOTg1Njk1MDE0NjUyNTksIDQwLjYyMDEzOTc1MzM3ODg5XSwgWy03My45ODc4NTIzOTI1MjE0LCA0MC42MjE0NDMyNzE1NTI1XSwgWy03My45OTAwOTQ5OTg0OTE1OSwgNDAuNjIyNzk3MTkyNjQyMzk1XSwgWy03My45OTI1NTExNzUwMiwgNDAuNjI0MjgyNTA4Mjg0Mzk1XSwgWy03My45OTM5ODM0MTA4NTg0LCA0MC42MjUxNDk2Mzg2NzU5XSwgWy03My45OTQzMjY0MTM2MTk1OSwgNDAuNjI1MzUxMTQ4NDUwM10sIFstNzMuOTk0ODk0MjQ1Mjg5MiwgNDAuNjI1NDcwMDMzODQ4MV0sIFstNzMuOTk0NzM2Mjk2NDI2OCwgNDAuNjI1NjIyOTgwMjk1NDA0XSwgWy03My45OTQ2NTExNjkzNTM1OSwgNDAuNjI1NzA1NDE4OTMyNl0sIFstNzMuOTk1MDc5NTg4NDU0LCA0MC42MjU4MTQ5Nzc1NTQ3OTZdLCBbLTczLjk5Njc4OTkxNTY3NzMsIDQwLjYyNjgzNDI5MTI3MDcwNF0sIFstNzMuOTk2ODc5MjIzOTEyNTksIDQwLjYyNjUzOTAyMjM1OTIwNF0sIFstNzMuOTk3MDE3Nzc2ODcxMiwgNDAuNjI2MDY5ODU1MTUwNV0sIFstNzMuOTk3MjQyMTEwODEzNTksIDQwLjYyNTI5NjkyNjU2ODI5Nl0sIFstNzMuOTk4MTE3NTg0MDEyMiwgNDAuNjI1ODIzOTQ2MjIyN10sIFstNzQuMDAwMzE1MTM2Mjc5MiwgNDAuNjI3MTUyODIyMzkwOV0sIFstNzQuMDAyNTE1OTkwMzU4OCwgNDAuNjI4NDgyNDQ5NTQzNzk2XSwgWy03NC4wMDIyMjkzNzYxODMzLCA0MC42Mjg3NTk0MDk2ODk0XSwgWy03NC4wMDE5MzE1NTY1NTM4LCA0MC42MjkwNDEwMDgwMDI3XSwgWy03NC4wMDMwNjI5ODI4NTM0OSwgNDAuNjI5NzIzNDE1NjEwM10sIFstNzQuMDAzNjg3NDE1MjE5MDksIDQwLjYzMDEwMDAyMTI4NTddLCBbLTc0LjAwNDEzODcyMjYxNDcsIDQwLjYzMDM3MjIwNjEzMjExXSwgWy03NC4wMDYzNDAxNTAyNDM2LCA0MC42MzE3MDE4NjcxNjMxXSwgWy03NC4wMDcwMjQ0Njg4MjEzMSwgNDAuNjMyMTE4MjM2MDEzN10sIFstNzQuMDA2ODA4MjIyNDEyMiwgNDAuNjMyMjU4NjMxODA3Nzk0XSwgWy03NC4wMDY2MjA1OTM0NDI1OSwgNDAuNjMyMzgzNjk5MTkzXSwgWy03NC4wMDYzMDc1OTkxNDM0MSwgNDAuNjMyNTkyMzI5MTE3OF0sIFstNzQuMDA1NTY2MzQ3NDcxNSwgNDAuNjMzMDkxNDE3MTkzNzFdLCBbLTc0LjAwNzM1NzgxMDgxODMsIDQwLjYzNDE3MTg2ODE2NzldLCBbLTc0LjAwNjc1MjY3MTIxMDMsIDQwLjYzNDc1MzAyNzU5Mzc5Nl0sIFstNzQuMDA2NDE5MjkwNzgwNSwgNDAuNjM1MDczMDkxNTk0MjE1XSwgWy03NC4wMDYxNzA3MTI1ODg1LCA0MC42MzUzMTE3NDMxMTAzXSwgWy03NC4wMDU1ODc1NzM3NjM0LCA0MC42MzU4NzQ0NzAzNTg1XSwgWy03NC4wMDUwMDQ5MDg4NDgsIDQwLjYzNjQzMzQ3NjYzMjldLCBbLTc0LjAwNDQyMTkyNzIyMjQxLCA0MC42MzY5OTMyMjc5NDc0XSwgWy03NC4wMDQxMTI0ODQxODksIDQwLjYzNzI5MTIwMjY1NzRdLCBbLTc0LjAwMzgzOTM3NDE3NDc5LCA0MC42Mzc1NTQxNzM1ODM2XSwgWy03NC4wMDMyNTQxNzQ0MDk1LCA0MC42MzgxMTI1MDM4NjkyXSwgWy03NC4wMDI2NzM1ODYzODc4LCA0MC42Mzg2NzUyNTI0NDcxXSwgWy03NC4wMDIzNzA4Nzc2ODQzLCA0MC42Mzg5NjU5MTk4NTg3MDVdLCBbLTc0LjAwMjA5MjE5NzE2MDEsIDQwLjYzOTIzMzQ5NjQxNTI5NF0sIFstNzQuMDAxNTA5MTU1MjAyMjEsIDQwLjYzOTc5MzIwNDMxMDZdLCBbLTc0LjAwMDkyNjg2MDIzNzgsIDQwLjY0MDM1NDE0NDM5NjZdLCBbLTc0LjAwMDY2MjIyNDI0MDYsIDQwLjY0MDYwNzU1MTYyODJdLCBbLTc0LjAwMDM0MjY2MzAxNjcsIDQwLjY0MDkxMzU1ODY3MTNdLCBbLTczLjk5OTc1ODM1MDY0NjIsIDQwLjY0MTQ3NTM5MzA3NDhdLCBbLTczLjk5OTE3NzA4OTIzNCwgNDAuNjQyMDMzNjg0Nzg3OV0sIFstNzMuOTk2OTc1MDE1MzU0MDEsIDQwLjY0MDcwMjM0NzE2OTJdLCBbLTczLjk5NTUxMTc3ODM2MDcsIDQwLjYzOTgxNzkwOTU4MjIwNl0sIFstNzMuOTk0Nzk2ODM1OTMyMDksIDQwLjY0MDI5NjcyOTk1NTZdLCBbLTczLjk5NDMzMjY4MTY3ODMsIDQwLjY0MDYwODUzMDYwMTYwNF0sIFstNzMuOTk0MDc4MzYwNDI4OSwgNDAuNjQwNzc4NjQ0NDUxM10sIFstNzMuOTkzMzYzOTc2ODQ4LCA0MC42NDEyNTYwNDE3ODc3MDZdLCBbLTczLjk5MjY0NjAwMDUxMzA5LCA0MC42NDE3MzY1MzM4NzU2XSwgWy03My45OTE5Mjk1NjM0OTIwMSwgNDAuNjQyMjEzMTQ3MTMzOV0sIFstNzMuOTkxMjE0MjEzMzM3MDIsIDQwLjY0MjY5NDEzMzY3MjZdLCBbLTczLjk5MDQ5Nzc4MDE2MjIsIDQwLjY0MzE3MjY4NDQ3NDddLCBbLTczLjk4OTc4MDM0MTg3NjIxLCA0MC42NDM2NTMxMzAxMzY3MDVdLCBbLTczLjk4OTA2MDE2Mjg2OTcsIDQwLjY0NDEyNzQ4NDU2MzJdLCBbLTczLjk4ODM1MTMwNTQ0Mzc5LCA0MC42NDQ1NzA0ODc1MjMxMDRdLCBbLTczLjk4NzUwMDg0NDM1MDQxLCA0MC42NDQwNTM3NTM5MTldLCBbLTczLjk4NjczMjI0Mzg0NjQsIDQwLjY0MzU4MjIzNzIwNTddLCBbLTczLjk4NTg5Nzg4Mjc3MzIsIDQwLjY0MzA3NTgzODc1ODRdLCBbLTczLjk4NTA5NjYzMzk2MiwgNDAuNjQyNTgxMjk5MjAwMzk0XSwgWy03My45ODQ1ODg2MzIyMTU1OSwgNDAuNjQyMjcwMjQ3ODg4NV0sIFstNzMuOTg0MzA0MzY4NzIyMiwgNDAuNjQyMDkyODA2Mzg0NF0sIFstNzMuOTgzMzE3NzIxNDU3NywgNDAuNjQxNDg2OTI2MDM5NzA0XSwgWy03My45ODI5OTU2MjkyMzg3LCA0MC42NDEzMzMyNDAwMzY4XSwgWy03My45ODI0NDU5Nzg4NTkyLCA0MC42NDE1NDY4Njg4MTA4XSwgWy03My45ODIwNDQ2NTQxOTU1LCA0MC42NDE3MTU4MjUzMDE2XSwgWy03My45ODEyMzM4NDEzMTc1LCA0MC42NDIwNTMxNTcyODFdLCBbLTczLjk4MDQyMjAxNDI4MzI5LCA0MC42NDIzOTM0NzAzOTE2XSwgWy03My45ODAwNzU3MjA3OTA5OSwgNDAuNjQwNTQ3OTQyOTgzNzFdLCBbLTczLjk4MDAwODM2NTgyNTgsIDQwLjY0MDIxNzA4MDgyNzddLCBbLTczLjk3OTkxMTI2NzEyMzIsIDQwLjYzOTY5NDYwMDg4NTZdLCBbLTczLjk3OTg3NTAzODcwMzcsIDQwLjYzOTUyNjQ0ODg5MjZdLCBbLTczLjk3OTY3ODQ4NTE1NTcsIDQwLjYzODQ3MzA0MjU2MDIxXSwgWy03My45Nzk1NTU4NDcxMzM3MSwgNDAuNjM3ODI3NTAyMzEwNF0sIFstNzMuOTc5NDc3MzU2MzYxOCwgNDAuNjM3NDM5NjA2NTMwNzA1XSwgWy03My45NzkzODc4ODI1ODg5LCA0MC42MzY5NDA0MDU5MzldLCBbLTczLjk3OTI4NzM1MjcwOTEsIDQwLjYzNjQyMjQzNjU0NDVdLCBbLTczLjk3OTExMzMyMjYwNDUsIDQwLjYzNTQ0ODYyODYwNzVdLCBbLTczLjk3ODAyMzAyNDMyNjIsIDQwLjYzNTU2MDk0NTEzMzVdLCBbLTczLjk3Njg5MDA0NTk5NDYsIDQwLjYzNTY4MzEwNDMyMDJdLCBbLTczLjk3NjYzNzk5NDU4MDkxLCA0MC42MzQzNjIwNjMzMTIxXSwgWy03My45NzY1NTIwNzU4MDEsIDQwLjYzMzkxMTc1MTFdLCBbLTczLjk3NjQzNDg1NjAzODYsIDQwLjYzMzI5NzM2NDQzXSwgWy03My45NzYwNTA3OTA1Njk4LCA0MC42MzEyODQxNDcxMDQyXV1dLCAidHlwZSI6ICJQb2x5Z29uIn0sICJpZCI6ICIwIiwgInByb3BlcnRpZXMiOiB7fSwgInR5cGUiOiAiRmVhdHVyZSJ9XSwgInR5cGUiOiAiRmVhdHVyZUNvbGxlY3Rpb24ifSk7CiAgICAgICAgCiAgICAKICAgICAgICAgICAgICAgIHZhciBsYXRfbG5nX3BvcHVwXzA2ODk4ODhiMWI5NTQxNTQ4MDVkYTc4NzNmZmFjMTk0ID0gTC5wb3B1cCgpOwogICAgICAgICAgICAgICAgZnVuY3Rpb24gbGF0TG5nUG9wKGUpIHsKICAgICAgICAgICAgICAgICAgICBsYXRfbG5nX3BvcHVwXzA2ODk4ODhiMWI5NTQxNTQ4MDVkYTc4NzNmZmFjMTk0CiAgICAgICAgICAgICAgICAgICAgICAgIC5zZXRMYXRMbmcoZS5sYXRsbmcpCiAgICAgICAgICAgICAgICAgICAgICAgIC5zZXRDb250ZW50KCJMYXRpdHVkZTogIiArIGUubGF0bG5nLmxhdC50b0ZpeGVkKDQpICsKICAgICAgICAgICAgICAgICAgICAgICAgICAgICAgICAgICAgIjxicj5Mb25naXR1ZGU6ICIgKyBlLmxhdGxuZy5sbmcudG9GaXhlZCg0KSkKICAgICAgICAgICAgICAgICAgICAgICAgLm9wZW5PbihtYXBfYThmN2ZkYTA4ZWVhNDZkMmE2ZjI4OWIwZDI0Mzc5ZDgpOwogICAgICAgICAgICAgICAgICAgIH0KICAgICAgICAgICAgICAgIG1hcF9hOGY3ZmRhMDhlZWE0NmQyYTZmMjg5YjBkMjQzNzlkOC5vbignY2xpY2snLCBsYXRMbmdQb3ApOwogICAgICAgICAgICAKPC9zY3JpcHQ+\" style=\"position:absolute;width:100%;height:100%;left:0;top:0;border:none !important;\" allowfullscreen webkitallowfullscreen mozallowfullscreen></iframe></div></div>"
      ],
      "text/plain": [
       "<folium.folium.Map at 0x24a04f02e10>"
      ]
     },
     "execution_count": 56,
     "metadata": {},
     "output_type": "execute_result"
    }
   ],
   "source": [
    "import geopandas as gpd\n",
    "from shapely.geometry import Polygon\n",
    "\n",
    "lat_point_list = latitudes\n",
    "lon_point_list = longitudes\n",
    "\n",
    "polygon_geom = Polygon(zip(lon_point_list,lat_point_list))\n",
    "crs = {'init': 'epsg:4326'}\n",
    "polygon = gpd.GeoDataFrame(index=[0], crs=crs, geometry=[polygon_geom])       \n",
    "print(polygon.geometry)\n",
    "\n",
    "polygon.to_file(filename='polygon.geojson', driver='GeoJSON')\n",
    "polygon.to_file(filename='polygon.shp', driver=\"ESRI Shapefile\")\n",
    "\n",
    "import folium\n",
    "m = folium.Map([40.63128, -73.97605], zoom_start=12, tiles='cartodbpositron')\n",
    "folium.GeoJson(polygon).add_to(m)\n",
    "folium.LatLngPopup().add_to(m)\n",
    "m.save(\"mapa.html\")\n",
    "m"
   ]
  },
  {
   "cell_type": "code",
   "execution_count": 21,
   "metadata": {
    "scrolled": true
   },
   "outputs": [
    {
     "data": {
      "text/plain": [
       "geopandas.geoseries.GeoSeries"
      ]
     },
     "execution_count": 21,
     "metadata": {},
     "output_type": "execute_result"
    }
   ],
   "source": [
    "def make_geodf(df, lat_col_name='latitude', lon_col_name='longitude'):\n",
    "    \"\"\"\n",
    "    Take a dataframe with latitude and longitude columns, and turn\n",
    "    it into a geopandas df.\n",
    "    \"\"\"\n",
    "    from geopandas import GeoDataFrame\n",
    "    from geopandas import points_from_xy\n",
    "    df = df.copy()\n",
    "    lat = df['latitude']\n",
    "    lon = df['longitude']\n",
    "    return GeoDataFrame(df, geometry=points_from_xy(lon, lat))\n",
    "\n",
    "dfGeoDataFrame=make_geodf(df)\n",
    "dfGeoDataFrame.head()\n",
    "type(dfGeoDataFrame['geometry'])\n",
    "\n",
    "#arreglopuntos=[];\n",
    "#arreglopuntos=dfGeoDataFrame['geometry']\n",
    "#arreglopuntos"
   ]
  },
  {
   "cell_type": "code",
   "execution_count": 11,
   "metadata": {},
   "outputs": [
    {
     "ename": "ModuleNotFoundError",
     "evalue": "No module named 'descartes'",
     "output_type": "error",
     "traceback": [
      "\u001b[1;31m---------------------------------------------------------------------------\u001b[0m",
      "\u001b[1;31mModuleNotFoundError\u001b[0m                       Traceback (most recent call last)",
      "\u001b[1;32m<ipython-input-11-c3c1c94a4463>\u001b[0m in \u001b[0;36m<module>\u001b[1;34m\u001b[0m\n\u001b[0;32m      1\u001b[0m \u001b[1;32mimport\u001b[0m \u001b[0mpandas\u001b[0m \u001b[1;32mas\u001b[0m \u001b[0mpd\u001b[0m\u001b[1;33m\u001b[0m\u001b[1;33m\u001b[0m\u001b[0m\n\u001b[0;32m      2\u001b[0m \u001b[1;32mimport\u001b[0m \u001b[0mmatplotlib\u001b[0m\u001b[1;33m.\u001b[0m\u001b[0mpyplot\u001b[0m \u001b[1;32mas\u001b[0m \u001b[0mplt\u001b[0m\u001b[1;33m\u001b[0m\u001b[1;33m\u001b[0m\u001b[0m\n\u001b[1;32m----> 3\u001b[1;33m \u001b[1;32mimport\u001b[0m \u001b[0mdescartes\u001b[0m\u001b[1;33m\u001b[0m\u001b[1;33m\u001b[0m\u001b[0m\n\u001b[0m\u001b[0;32m      4\u001b[0m \u001b[1;32mimport\u001b[0m \u001b[0mgeopandas\u001b[0m \u001b[1;32mas\u001b[0m \u001b[0mgpd\u001b[0m\u001b[1;33m\u001b[0m\u001b[1;33m\u001b[0m\u001b[0m\n\u001b[0;32m      5\u001b[0m \u001b[1;32mfrom\u001b[0m \u001b[0mshapely\u001b[0m\u001b[1;33m.\u001b[0m\u001b[0mgeometry\u001b[0m \u001b[1;32mimport\u001b[0m \u001b[0mPoint\u001b[0m\u001b[1;33m,\u001b[0m \u001b[0mPolygon\u001b[0m\u001b[1;33m\u001b[0m\u001b[1;33m\u001b[0m\u001b[0m\n",
      "\u001b[1;31mModuleNotFoundError\u001b[0m: No module named 'descartes'"
     ]
    }
   ],
   "source": [
    "import pandas as pd\n",
    "import matplotlib.pyplot as plt\n",
    "import descartes\n",
    "import geopandas as gpd\n",
    "from shapely.geometry import Point, Polygon\n",
    "\n",
    "gdf = gpd.GeoDataFrame(df, geometry=gpd.points_from_xy(df.Lon, df.Lat))\n",
    "\n",
    "#world = gpd.read_file(gpd.datasets.get_path('naturalearth_lowres'))\n",
    "#world = gpd.read_file(gpd.datasets.get_path('nybb'))\n",
    "world = gpd.read_file(ruta+'NYC.shp')\n",
    "\n",
    "ax = world.plot(color='white', edgecolor='black')\n",
    "\n",
    "# We can now plot our ``GeoDataFrame``.\n",
    "#gdf.plot(ax=ax, color='red')\n",
    "\n",
    "plt.show()"
   ]
  },
  {
   "cell_type": "code",
   "execution_count": 46,
   "metadata": {},
   "outputs": [
    {
     "name": "stderr",
     "output_type": "stream",
     "text": [
      "C:\\Users\\William Romero\\Anaconda3\\lib\\site-packages\\IPython\\core\\interactiveshell.py:3057: DtypeWarning: Columns (1) have mixed types. Specify dtype option on import or set low_memory=False.\n",
      "  interactivity=interactivity, compiler=compiler, result=result)\n"
     ]
    }
   ],
   "source": [
    "import pandas as pd\n",
    "import numpy as np\n",
    "\n",
    "#Cargue archivos UBER\n",
    "uber_2014 = pd.read_csv(ruta+'uber_trips_2014.csv.gz', compression='gzip', header=0, sep=',', quotechar='\"', error_bad_lines=False, dtype={'user_id': str})\n",
    "uber_2015 = pd.read_csv(ruta+'uber_trips_2015.csv.gz', compression='gzip', header=0, sep=',', quotechar='\"', error_bad_lines=False, dtype={'user_id': str})\n",
    "#Cargue archivo Taxi\n",
    "taxi = pd.read_csv(ruta+'yellow_trips.csv.gz', compression='gzip', header=0, sep=',', quotechar='\"', error_bad_lines=False, dtype={'user_id': str})\n",
    "#Cargue archivo Green Taxi\n",
    "#green = pd.read_csv(ruta+'green_trips.csv.gz', compression='gzip', header=0, sep=',', quotechar='\"', error_bad_lines=False, dtype={'user_id': str})\n",
    "#Cargue archivo MTA\n",
    "#train = pd.read_csv(ruta+'mta_trips.csv.gz', compression='gzip', header=0, sep=',', quotechar='\"', error_bad_lines=False, dtype={'user_id': str})\n",
    "\n",
    "uber = uber_2014.append(uber_2015, sort=False, ignore_index=True)\n",
    "uber_copy = uber.copy()\n",
    "uber_copy['pickup_datetime'] = pd.to_datetime(uber_copy['pickup_datetime'])\n",
    "uber_copy['date'] = uber_copy['pickup_datetime'].dt.date\n",
    "uber_copy['day'] = uber_copy['pickup_datetime'].dt.day\n",
    "uber_copy['month'] = uber_copy['pickup_datetime'].dt.month\n",
    "uber_copy['year'] = uber_copy['pickup_datetime'].dt.year"
   ]
  },
  {
   "cell_type": "code",
   "execution_count": 48,
   "metadata": {
    "scrolled": true
   },
   "outputs": [],
   "source": [
    "uber_conteo = uber_copy.groupby(['year','month','day']).count()[['pickup_datetime']]\n",
    "uber_conteo.rename(columns={'pickup_datetime':'count'}, inplace=True)"
   ]
  },
  {
   "cell_type": "code",
   "execution_count": 53,
   "metadata": {},
   "outputs": [
    {
     "data": {
      "text/html": [
       "<div>\n",
       "<style scoped>\n",
       "    .dataframe tbody tr th:only-of-type {\n",
       "        vertical-align: middle;\n",
       "    }\n",
       "\n",
       "    .dataframe tbody tr th {\n",
       "        vertical-align: top;\n",
       "    }\n",
       "\n",
       "    .dataframe thead th {\n",
       "        text-align: right;\n",
       "    }\n",
       "</style>\n",
       "<table border=\"1\" class=\"dataframe\">\n",
       "  <thead>\n",
       "    <tr style=\"text-align: right;\">\n",
       "      <th></th>\n",
       "      <th>pickup_datetime</th>\n",
       "      <th>pickup_latitude</th>\n",
       "      <th>pickup_longitude</th>\n",
       "      <th>base</th>\n",
       "    </tr>\n",
       "  </thead>\n",
       "  <tbody>\n",
       "    <tr>\n",
       "      <th>0</th>\n",
       "      <td>4/1/14 0:11</td>\n",
       "      <td>40.7690</td>\n",
       "      <td>-73.9549</td>\n",
       "      <td>B02512</td>\n",
       "    </tr>\n",
       "    <tr>\n",
       "      <th>1</th>\n",
       "      <td>4/1/14 0:17</td>\n",
       "      <td>40.7267</td>\n",
       "      <td>-74.0345</td>\n",
       "      <td>B02512</td>\n",
       "    </tr>\n",
       "    <tr>\n",
       "      <th>2</th>\n",
       "      <td>4/1/14 0:21</td>\n",
       "      <td>40.7316</td>\n",
       "      <td>-73.9873</td>\n",
       "      <td>B02512</td>\n",
       "    </tr>\n",
       "    <tr>\n",
       "      <th>3</th>\n",
       "      <td>4/1/14 0:28</td>\n",
       "      <td>40.7588</td>\n",
       "      <td>-73.9776</td>\n",
       "      <td>B02512</td>\n",
       "    </tr>\n",
       "    <tr>\n",
       "      <th>4</th>\n",
       "      <td>4/1/14 0:33</td>\n",
       "      <td>40.7594</td>\n",
       "      <td>-73.9722</td>\n",
       "      <td>B02512</td>\n",
       "    </tr>\n",
       "  </tbody>\n",
       "</table>\n",
       "</div>"
      ],
      "text/plain": [
       "  pickup_datetime  pickup_latitude  pickup_longitude    base\n",
       "0     4/1/14 0:11          40.7690          -73.9549  B02512\n",
       "1     4/1/14 0:17          40.7267          -74.0345  B02512\n",
       "2     4/1/14 0:21          40.7316          -73.9873  B02512\n",
       "3     4/1/14 0:28          40.7588          -73.9776  B02512\n",
       "4     4/1/14 0:33          40.7594          -73.9722  B02512"
      ]
     },
     "execution_count": 53,
     "metadata": {},
     "output_type": "execute_result"
    }
   ],
   "source": []
  },
  {
   "cell_type": "code",
   "execution_count": null,
   "metadata": {},
   "outputs": [],
   "source": []
  }
 ],
 "metadata": {
  "kernelspec": {
   "display_name": "Python 3",
   "language": "python",
   "name": "python3"
  },
  "language_info": {
   "codemirror_mode": {
    "name": "ipython",
    "version": 3
   },
   "file_extension": ".py",
   "mimetype": "text/x-python",
   "name": "python",
   "nbconvert_exporter": "python",
   "pygments_lexer": "ipython3",
   "version": "3.7.3"
  }
 },
 "nbformat": 4,
 "nbformat_minor": 2
}
